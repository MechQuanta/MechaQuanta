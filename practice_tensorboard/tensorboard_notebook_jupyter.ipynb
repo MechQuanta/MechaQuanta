{
 "cells": [
  {
   "cell_type": "code",
   "execution_count": 1,
   "id": "2e0b2d6c-07d7-48e5-bab9-bfdc269eb54f",
   "metadata": {},
   "outputs": [
    {
     "ename": "ModuleNotFoundError",
     "evalue": "No module named 'tensorflow'",
     "output_type": "error",
     "traceback": [
      "\u001b[0;31m---------------------------------------------------------------------------\u001b[0m",
      "\u001b[0;31mModuleNotFoundError\u001b[0m                       Traceback (most recent call last)",
      "Cell \u001b[0;32mIn[1], line 1\u001b[0m\n\u001b[0;32m----> 1\u001b[0m \u001b[38;5;28;01mimport\u001b[39;00m\u001b[38;5;250m \u001b[39m\u001b[38;5;21;01mtensorflow\u001b[39;00m\u001b[38;5;250m \u001b[39m\u001b[38;5;28;01mas\u001b[39;00m\u001b[38;5;250m \u001b[39m\u001b[38;5;21;01mtf\u001b[39;00m\n\u001b[1;32m      2\u001b[0m \u001b[38;5;28;01mimport\u001b[39;00m\u001b[38;5;250m \u001b[39m\u001b[38;5;21;01mdatetime\u001b[39;00m\n\u001b[1;32m      3\u001b[0m mnist \u001b[38;5;241m=\u001b[39m keras\u001b[38;5;241m.\u001b[39mdatasets\u001b[38;5;241m.\u001b[39mmnist\n",
      "\u001b[0;31mModuleNotFoundError\u001b[0m: No module named 'tensorflow'"
     ]
    }
   ],
   "source": [
    "import tensorflow as tf\n",
    "import datetime\n",
    "mnist = keras.datasets.mnist\n",
    "(X,train,Y_train),(X_test,Y_test) = mnist.load_data()\n",
    "X_train,X_test = X_train/255.0,X_test/255.0\n",
    "def create_model():\n",
    "\tmodel = keras.models.Sequential([keras.layers.Input(shape = (28,28),name = 'layers_input'),\n",
    "\tkeras.layers.Flatten(name= 'layers_flatten'),\n",
    "\tkeras.layers.Dense(512,activation='relu',name='layer_dense'),\n",
    "\tkeras.layers.Dropout(0.2,name='layers_dropout'),\n",
    "\tkeras.layers.Dense(10,activation='softmax',name='layer_dense_2')])\n",
    "\treturn model"
   ]
  },
  {
   "cell_type": "code",
   "execution_count": null,
   "id": "722d5ce9-8e59-4056-bc93-cbd6d6c0ed28",
   "metadata": {},
   "outputs": [],
   "source": []
  }
 ],
 "metadata": {
  "kernelspec": {
   "display_name": "Python 3 (ipykernel)",
   "language": "python",
   "name": "python3"
  },
  "language_info": {
   "codemirror_mode": {
    "name": "ipython",
    "version": 3
   },
   "file_extension": ".py",
   "mimetype": "text/x-python",
   "name": "python",
   "nbconvert_exporter": "python",
   "pygments_lexer": "ipython3",
   "version": "3.10.12"
  }
 },
 "nbformat": 4,
 "nbformat_minor": 5
}
