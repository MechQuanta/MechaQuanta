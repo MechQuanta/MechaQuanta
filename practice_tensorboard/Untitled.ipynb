{
 "cells": [
  {
   "cell_type": "code",
   "execution_count": 3,
   "id": "848c331b-740c-432b-a407-018d2147ba72",
   "metadata": {},
   "outputs": [],
   "source": [
    "import tensorflow as tf\n",
    "import datetime\n",
    "import keras\n",
    "#mnist = keras.datasets.mnist\n",
    "(X_train, Y_train), (X_test, Y_test) = mnist.load_data()\n",
    "X_train,X_test = X_train/255.0,X_test/255.0\n",
    "def create_model():\n",
    "\tmodel = keras.models.Sequential([keras.layers.Input(shape = (28,28),name = 'layers_input'),\n",
    "\tkeras.layers.Flatten(name= 'layers_flatten'),\n",
    "\tkeras.layers.Dense(512,activation='relu',name='layer_dense'),\n",
    "\tkeras.layers.Dropout(0.2,name='layers_dropout'),\n",
    "\tkeras.layers.Dense(10,activation='softmax',name='layer_dense_2')])\n",
    "\treturn model"
   ]
  },
  {
   "cell_type": "code",
   "execution_count": 16,
   "id": "cc2b338c-122f-4e86-a46e-9a98ccc66488",
   "metadata": {},
   "outputs": [
    {
     "name": "stdout",
     "output_type": "stream",
     "text": [
      "Epoch 1/5\n",
      "\u001b[1m1875/1875\u001b[0m \u001b[32m━━━━━━━━━━━━━━━━━━━━\u001b[0m\u001b[37m\u001b[0m \u001b[1m4s\u001b[0m 1ms/step - accuracy: 0.8888 - loss: 0.3677 - val_accuracy: 0.9682 - val_loss: 0.1015\n",
      "Epoch 2/5\n",
      "\u001b[1m1875/1875\u001b[0m \u001b[32m━━━━━━━━━━━━━━━━━━━━\u001b[0m\u001b[37m\u001b[0m \u001b[1m2s\u001b[0m 1ms/step - accuracy: 0.9695 - loss: 0.1021 - val_accuracy: 0.9736 - val_loss: 0.0887\n",
      "Epoch 3/5\n",
      "\u001b[1m1875/1875\u001b[0m \u001b[32m━━━━━━━━━━━━━━━━━━━━\u001b[0m\u001b[37m\u001b[0m \u001b[1m2s\u001b[0m 1ms/step - accuracy: 0.9798 - loss: 0.0652 - val_accuracy: 0.9776 - val_loss: 0.0753\n",
      "Epoch 4/5\n",
      "\u001b[1m1875/1875\u001b[0m \u001b[32m━━━━━━━━━━━━━━━━━━━━\u001b[0m\u001b[37m\u001b[0m \u001b[1m2s\u001b[0m 1ms/step - accuracy: 0.9833 - loss: 0.0523 - val_accuracy: 0.9809 - val_loss: 0.0646\n",
      "Epoch 5/5\n",
      "\u001b[1m1875/1875\u001b[0m \u001b[32m━━━━━━━━━━━━━━━━━━━━\u001b[0m\u001b[37m\u001b[0m \u001b[1m3s\u001b[0m 2ms/step - accuracy: 0.9864 - loss: 0.0416 - val_accuracy: 0.9808 - val_loss: 0.0658\n"
     ]
    },
    {
     "data": {
      "text/plain": [
       "<keras.src.callbacks.history.History at 0x739af246f7c0>"
      ]
     },
     "execution_count": 16,
     "metadata": {},
     "output_type": "execute_result"
    }
   ],
   "source": [
    "model  = create_model()\n",
    "model.compile(optimizer = 'adam',loss = 'sparse_categorical_crossentropy',metrics = ['accuracy'])\n",
    "log_dir = \"logs\"+datetime.datetime.now().strftime(\"%Y%m%d\")\n",
    "tensorboard_callback = keras.callbacks.TensorBoard(log_dir = log_dir,histogram_freq=1)\n",
    "\n",
    "model.fit(x = X_train,y=Y_train,epochs = 5,validation_data=(X_test,Y_test),callbacks = [tensorboard_callback])"
   ]
  },
  {
   "cell_type": "code",
   "execution_count": 15,
   "id": "57bfdec4-948c-44bb-b7a1-5afd8bedc4f7",
   "metadata": {},
   "outputs": [
    {
     "name": "stderr",
     "output_type": "stream",
     "text": [
      "UsageError: Line magic function `%tensorboard` not found.\n"
     ]
    }
   ],
   "source": [
    "%tensorboard --logdir logs"
   ]
  },
  {
   "cell_type": "code",
   "execution_count": null,
   "id": "8b166ce2-0080-45cc-9922-5432fd98261e",
   "metadata": {},
   "outputs": [],
   "source": []
  }
 ],
 "metadata": {
  "kernelspec": {
   "display_name": "project",
   "language": "python",
   "name": "project"
  },
  "language_info": {
   "codemirror_mode": {
    "name": "ipython",
    "version": 3
   },
   "file_extension": ".py",
   "mimetype": "text/x-python",
   "name": "python",
   "nbconvert_exporter": "python",
   "pygments_lexer": "ipython3",
   "version": "3.9.23"
  }
 },
 "nbformat": 4,
 "nbformat_minor": 5
}
