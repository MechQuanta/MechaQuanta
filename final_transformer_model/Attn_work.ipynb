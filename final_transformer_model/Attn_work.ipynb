{
 "cells": [
  {
   "cell_type": "code",
   "execution_count": null,
   "id": "019528a4-61ed-4d35-94c5-05951c032b8a",
   "metadata": {},
   "outputs": [],
   "source": []
  },
  {
   "cell_type": "code",
   "execution_count": 74,
   "id": "df70741f-a51e-4fa4-879b-0141ef5148aa",
   "metadata": {},
   "outputs": [
    {
     "ename": "IndentationError",
     "evalue": "unindent does not match any outer indentation level (<tokenize>, line 103)",
     "output_type": "error",
     "traceback": [
      "\u001b[0;36m  File \u001b[0;32m<tokenize>:103\u001b[0;36m\u001b[0m\n\u001b[0;31m    df_read = pd.read_csv(\"sim_keff_data.csv\")\u001b[0m\n\u001b[0m    ^\u001b[0m\n\u001b[0;31mIndentationError\u001b[0m\u001b[0;31m:\u001b[0m unindent does not match any outer indentation level\n"
     ]
    }
   ],
   "source": [
    "import os\n",
    "import tensorflow as tf\n",
    "from datetime import datetime\n",
    "import numpy as np\n",
    "import pandas as pd\n",
    "import matplotlib.pyplot as plt\n",
    "from keras.layers import Layer, Dense, LayerNormalization, Dropout,Flatten\n",
    "from keras.models import Model,Sequential\n",
    "from keras import Input\n",
    "import visualkeras\n",
    "from sklearn.preprocessing import MinMaxScaler\n",
    "from keras.metrics import RootMeanSquaredError\n",
    "from keras.callbacks import TensorBoard\n",
    "\n",
    "\n",
    "gpus = tf.config.list_physical_devices('GPU')\n",
    "if gpus:\n",
    "\ttry:\n",
    "\t\tfor gpu in gpus:\n",
    "\t\t\ttf.config.experimental.set_memory_growth(gpu,True)\n",
    "\t\tlogical_gpus = tf.config.list_logical_devices('GPU')\n",
    "\t\tprint(f'{len(gpus)} Physical GPUs, {len(logical_gpus)} logical GPUs')\n",
    "\texcept RuntimeError as e:\n",
    "\t\tprint(f\"error setting up gpus: {e}\")\n",
    "else:\n",
    "\tprint('no gpus')\n",
    "class MultiHeadSelfAttention(Layer):\n",
    "\tdef __init__(self,embed_dim,num_heads = 8):\n",
    "\t\tsuper(MultiHeadSelfAttention,self).__init__()\n",
    "\t\tself.embed_dim = embed_dim\n",
    "\t\tself.num_heads = num_heads\n",
    "\t\tself.projection_dim = embed_dim//num_heads\n",
    "\t\tself.query_dense = Dense(embed_dim)\n",
    "\t\tself.key_dense= Dense(embed_dim)\n",
    "\t\tself.value_dense= Dense(embed_dim)\n",
    "\t\tself.combine_heads = Dense(embed_dim)\n",
    "\tdef attention(self,query,key,value):\n",
    "\t\tscore = tf.matmul(query,key,transpose_b = True)\n",
    "\t\tdim_key = tf.cast(tf.shape(key)[-1],tf.float32)\n",
    "\t\tscaled_score = score/tf.math.sqrt(dim_key)\n",
    "\t\tweights = tf.nn.softmax(scaled_score,axis=-1)\n",
    "\t\toutput = tf.matmul(weights,value)\n",
    "\t\treturn output,weights\n",
    "\tdef split_heads(self,x,batch_size):\n",
    "\t\tx = tf.reshape(x,(batch_size,-1,self.num_heads,self.projection_dim))\n",
    "\t\treturn tf.transpose(x,perm=[0,2,1,3])\n",
    "\tdef call(self,inputs):\n",
    "\t\tbatch_size = tf.shape(inputs)[0]\n",
    "\t\tquery = self.query_dense(inputs)\n",
    "\t\tkey = self.key_dense(inputs)\n",
    "\t\tvalue = self.value_dense(inputs)\n",
    "\t\tquery = self.split_heads(query,batch_size)\n",
    "\t\tkey = self.split_heads(key,batch_size)\n",
    "\t\tvalue = self.split_heads(value,batch_size)\n",
    "\t\tattention_output,_=self.attention(query,key,value)\n",
    "\t\tattention_output = tf.transpose(attention_output,perm=[0,2,1,3])\n",
    "\t\tconcat_attention = tf.reshape(attention_output,(batch_size,-1,self.embed_dim))\n",
    "\t\treturn self.combine_heads(concat_attention)\n",
    "class TransformBlock(Layer):\n",
    "\tdef __init__(self,embed_dim,num_heads,ff_dim,rate=0.1):\n",
    "\t\tsuper(TransformBlock,self).__init__()\n",
    "\t\tself.att = MultiHeadSelfAttention(embed_dim,num_heads)\n",
    "\t\tself.ffn = Sequential([Dense(ff_dim,activation='relu'),Dense(embed_dim),])\n",
    "\t\tself.layernorm1 = LayerNormalization(epsilon = 1e-6)\n",
    "\t\tself.layernorm2 = LayerNormalization(epsilon=1e-6)\n",
    "\t\tself.dropout1 = Dropout(rate)\n",
    "\t\tself.dropout2 = Dropout(rate)\n",
    "\tdef call(self,inputs,training=False):\n",
    "\t\tattn_output = self.att(inputs)\n",
    "\t\tattn_output = self.dropout1(attn_output,training=training)\n",
    "\t\tout1 = self.layernorm1(inputs+attn_output)\n",
    "\t\tffn_output = self.ffn(out1)\n",
    "\t\treturn self.layernorm2(out1+ffn_output)\n",
    "class TransformerEncoder(Layer):\n",
    "\tdef __init__(self,num_layers,embed_dim,num_heads,ff_dim,rate=0.1):\n",
    "\t\tsuper(TransformerEncoder,self).__init__()\n",
    "\t\tself.enc_layers = [TransformBlock(embed_dim,num_heads,ff_dim) for _ in range(num_layers)]\n",
    "\t\tself.dropout = Dropout(rate)\n",
    "\tdef call(self,inputs,training=False):\n",
    "\t\tx = inputs\n",
    "\t\tx = self.dropout(x,training=training)\n",
    "\t\tfor layer in self.enc_layers:\n",
    "\t\t\tx = layer(x,training=training)\n",
    "\t\treturn x\n",
    "def create_dataset(data,time_step=1):\n",
    "\tX,Y = [],[]\n",
    "\tfor i in range(len(data)-time_step-1):\n",
    "\t\tX.append(data[i:(i+time_step)])\n",
    "\t\tY.append(data[(i+time_step),2])\n",
    "\treturn np.array(X),np.array(Y)\n",
    "def build_model(time_step,embed_dim=128,num_heads=8,ff_dim = 512,num_layers=4,dropout_rate=0.1):\n",
    "\tinputs = Input(shape=(time_step,3))\n",
    "\tx = Dense(embed_dim)(inputs)\n",
    "\tencoder = TransformerEncoder(num_layers,embed_dim,num_heads,ff_dim,rate=dropout_rate)\n",
    "\tx = encoder(x)\n",
    "\tx = Flatten()(x)\n",
    "\tx = Dropout(dropout_rate)(x)\n",
    "\toutputs = Dense(1)(x)\n",
    "\treturn Model(inputs,outputs)\n",
    "\t\n",
    "def main():\n",
    "\tnp.random.seed(42)\n",
    "    df_read = pd.read_csv(\"sim_keff_data.csv\")\n",
    "\n",
    "    # Create a new DataFrame from the first 3000 rows\n",
    "    df = pd.DataFrame()\n",
    "    df['Time'] = df_read.iloc[:3000]\n",
    "    df['keff'] = df_read.iloc[:3000]\n",
    "    df['cr_pos'] = df_read.iloc[:3000]\n",
    "\n",
    "    #print(df.head())\n",
    "\t\n",
    "\tprint(df.head())\n",
    "\tscaler = MinMaxScaler(feature_range=(0,1))\n",
    "\tscaler2 = MinMaxScaler(feature_range=(0,1))\n",
    "\tscaled_data = scaler.fit_transform(df[['Time','keff','cr_pos']].values)\n",
    "\tscaled_data2 = scaler2.fit_transform(df[['cr_pos']].values)\n",
    "\ttime_step = 100\n",
    "\tX,Y = create_dataset(scaled_data,time_step)\n",
    "\tmodel = build_model(time_step,embed_dim=128,num_heads=8,ff_dim=512,num_layers=4,dropout_rate = 0.1)\n",
    "\tmodel.compile(optimizer='Adam',loss='mse',metrics=['mae',RootMeanSquaredError(name='rmse')])\n",
    "\tmodel.summary()\n",
    "\tlogdir = os.path.join(\"logs\",datetime.now().strftime(\"%Y%m%d-%H%M%S\"))\n",
    "\tos.makedirs(logdir,exist_ok=True)\n",
    "\tarch_path = os.path.join(logdir,'model_visualkeras.png')\n",
    "\tvisualkeras.layered_view(model,to_file=arch_path,legend=True,draw_volume=False,scale_xy=1.5,scale_z=1,spacing=20)\n",
    "\twith tf.summary.create_file_writer(logdir).as_default():\n",
    "\t\timg = tf.io.read_file(arch_path)\n",
    "\t\timg = tf.image.decode_png(img,channels=4)\n",
    "\t\ttf.summary.image(\"Model_visualization\",tf.expand_dims(img,0),step=0)\n",
    "\ttensorboard_cb = TensorBoard(log_dir = logdir,histogram_freq = 1,write_graph=True,write_images=True,update_freq='epoch',profile_batch=1)\n",
    "\tprint(f\"Tensorboard logs in : {os.path.abspath(logdir)}\")\n",
    "\tprint(f\"Run: tensorboard--logdir{logdir}\")\n",
    "\thistory = model.fit(X,Y,epochs=20,batch_size = 32,validation_split=0.1,callbacks = [tensorboard_cb])\n",
    "    df_test = pd.DataFrame()\n",
    "\tdf_test['Time'] = df_read.iloc[3000:4000]\n",
    "\tdf_test['keff'] = df_read.iloc[3000:4000]\n",
    "\tdf_test['cr_pos'] = df_read.iloc[3000:4000]\n",
    "    scaler_dummy = MinMaxScaler(feature_range=(0,1))\n",
    "    scaler2_dummy = MinMaxScaler(feature_range=(0,1))\n",
    "    scaled_data_dummy = scaler_dummy.fit_transform(df_test[['Time','keff','cr_pos']].values)\n",
    "    #scaled_data_dummy_cr = scaler2_dummy.fit_transform(df_dummy[['cr_pos_dummy']].values)\n",
    "    x,y = create_dataset(scaled_data_dummy,time_step=27)\n",
    "\t#loss = model.evaluate(X,Y)\n",
    "\tprint(X.shape)\n",
    "\t#print(\"Test loss: \",loss)\n",
    "\tpredictions = model.predict(x)\n",
    "\t#print(predictions.shape)\n",
    "\tprediction = predictions.flatten()\n",
    "\tpredictions = scaler2.inverse_transform(predictions)\n",
    "\tplt.figure(figsize=(10,6))\n",
    "\t#K=X[:,98,1]\n",
    "\tplt.plot(df['cr_pos'][27:54],label='True data')\n",
    "\tplt.plot(predictions[0:27],label = 'Predictions')\n",
    "\tplt.title('Transformer Time Series Forecasting')\n",
    "\tplt.xlabel('Time')\n",
    "\tplt.ylabel('synthetic data')\n",
    "\tplt.legend()\n",
    "\tplot_path=os.path.join(logdir,'prediction_plot.png')\n",
    "\tplt.savefig(plot_path,dpi=300,bbox_inches='tight')\n",
    "\tprint(f\"Plot saved to: {plot_path}\")\n",
    "\t\n",
    "if __name__=='__main__':\n",
    "\tmain()"
   ]
  },
  {
   "cell_type": "code",
   "execution_count": 22,
   "id": "2872cab1-d0cd-4897-8868-d63a5c91ac54",
   "metadata": {},
   "outputs": [
    {
     "name": "stdout",
     "output_type": "stream",
     "text": [
      "   Time_dummy  keff_dummy  cr_pos_dummy\n",
      "0    1.851054    3.851054     39.851054\n",
      "1  352.151987    1.738198     37.417236\n",
      "2 -183.666579    1.827911     34.372186\n",
      "3 -256.428258    2.442329    -26.111765\n",
      "4  317.238037    1.993579     37.940978\n"
     ]
    },
    {
     "ename": "TypeError",
     "evalue": "cannot unpack non-iterable NoneType object",
     "output_type": "error",
     "traceback": [
      "\u001b[0;31m---------------------------------------------------------------------------\u001b[0m",
      "\u001b[0;31mTypeError\u001b[0m                                 Traceback (most recent call last)",
      "Cell \u001b[0;32mIn[22], line 21\u001b[0m\n\u001b[1;32m     19\u001b[0m scaled_data_dummy \u001b[38;5;241m=\u001b[39m scaler_dummy\u001b[38;5;241m.\u001b[39mfit_transform(df_dummy[[\u001b[38;5;124m'\u001b[39m\u001b[38;5;124mTime_dummy\u001b[39m\u001b[38;5;124m'\u001b[39m,\u001b[38;5;124m'\u001b[39m\u001b[38;5;124mkeff_dummy\u001b[39m\u001b[38;5;124m'\u001b[39m,\u001b[38;5;124m'\u001b[39m\u001b[38;5;124mcr_pos_dummy\u001b[39m\u001b[38;5;124m'\u001b[39m]]\u001b[38;5;241m.\u001b[39mvalues)\n\u001b[1;32m     20\u001b[0m scaled_data_dummy_cr \u001b[38;5;241m=\u001b[39m scaler2_dummy\u001b[38;5;241m.\u001b[39mfit_transform(df_dummy[[\u001b[38;5;124m'\u001b[39m\u001b[38;5;124mcr_pos_dummy\u001b[39m\u001b[38;5;124m'\u001b[39m]]\u001b[38;5;241m.\u001b[39mvalues)\n\u001b[0;32m---> 21\u001b[0m x,y \u001b[38;5;241m=\u001b[39m create_dataset(scaled_data_dummy,time_step\u001b[38;5;241m=\u001b[39m\u001b[38;5;241m199\u001b[39m)\n",
      "\u001b[0;31mTypeError\u001b[0m: cannot unpack non-iterable NoneType object"
     ]
    }
   ],
   "source": [
    "from sklearn.preprocessing import MinMaxScaler\n",
    "\n",
    "def create_dataset(data,time_step=1):\n",
    "\tX,Y = [],[]\n",
    "\tfor i in range(len(data)-time_step-1):\n",
    "\t\tX.append(data[i:(i+time_step)])\n",
    "\t\tY.append(data[(i+time_step),2])\n",
    "noise_dummy = np.random.normal(0,1,200)\n",
    "dummy_data_time = 365*np.sin(np.linspace(0,365,200)) +noise_dummy\n",
    "dummy_data_keff = 2*np.cos(np.linspace(0,2,200))+noise_dummy\n",
    "dummy_data_cr = 38*np.cos(100*np.sin(np.linspace(0,38,200)))+noise_dummy\n",
    "df_dummy = pd.DataFrame()\n",
    "df_dummy['Time_dummy'] = dummy_data_time\n",
    "df_dummy['keff_dummy'] = dummy_data_keff\n",
    "df_dummy['cr_pos_dummy'] = dummy_data_cr\n",
    "print(df_dummy.head())\n",
    "scaler_dummy = MinMaxScaler(feature_range=(0,1))\n",
    "scaler2_dummy = MinMaxScaler(feature_range=(0,1))\n",
    "scaled_data_dummy = scaler_dummy.fit_transform(df_dummy[['Time_dummy','keff_dummy','cr_pos_dummy']].values)\n",
    "scaled_data_dummy_cr = scaler2_dummy.fit_transform(df_dummy[['cr_pos_dummy']].values)\n",
    "x,y = create_dataset(scaled_data_dummy,time_step=199)"
   ]
  },
  {
   "cell_type": "code",
   "execution_count": null,
   "id": "2de5429c-f727-4b6e-bea6-33f48a4a463a",
   "metadata": {},
   "outputs": [],
   "source": []
  },
  {
   "cell_type": "code",
   "execution_count": 39,
   "id": "d628af62-c12d-4646-8dec-43ff1c0739ac",
   "metadata": {},
   "outputs": [],
   "source": [
    "import numpy as np\n",
    "import pandas as pd\n",
    "from sklearn.preprocessing import MinMaxScaler\n",
    "\n",
    "def create_dataset(data, time_step=1):\n",
    "    X, Y = [], []\n",
    "    for i in range(len(data) - time_step - 1):\n",
    "        X.append(data[i:(i + time_step)])\n",
    "        Y.append(data[(i + time_step), 2])  # assuming column index 2 = cr_pos_dummy\n",
    "    return np.array(X), np.array(Y)\n",
    "\n",
    "# Dummy data generation\n",
    "noise_dummy = np.random.normal(0, 1, 200)\n",
    "dummy_data_time = 365 * np.sin(np.linspace(0, 365, 200)) + noise_dummy\n",
    "dummy_data_keff = 2 * np.cos(np.linspace(0, 2, 200)) + noise_dummy\n",
    "dummy_data_cr = 38 * np.cos(100 * np.sin(np.linspace(0, 38, 200))) + noise_dummy\n",
    "\n",
    "# DataFrame\n",
    "df_dummy = pd.DataFrame()\n",
    "df_dummy['Time_dummy'] = dummy_data_time\n",
    "df_dummy['keff_dummy'] = dummy_data_keff\n",
    "df_dummy['cr_pos_dummy'] = dummy_data_cr\n",
    "\n",
    "# Scaling\n",
    "scaler_dummy = MinMaxScaler(feature_range=(0, 1))\n",
    "scaler2_dummy = MinMaxScaler(feature_range=(0, 1))\n",
    "scaled_data_dummy = scaler_dummy.fit_transform(df_dummy[['Time_dummy', 'keff_dummy', 'cr_pos_dummy']].values)\n",
    "scaled_data_dummy_cr = scaler2_dummy.fit_transform(df_dummy[['cr_pos_dummy']].values)\n",
    "\n",
    "# Create dataset\n",
    "x, y = create_dataset(scaled_data_dummy, time_step=10)\n"
   ]
  },
  {
   "cell_type": "code",
   "execution_count": 41,
   "id": "bc955e7f-4837-4828-9c0a-fcd98f0dd178",
   "metadata": {},
   "outputs": [
    {
     "data": {
      "text/plain": [
       "100    342.125721\n",
       "101     38.359475\n",
       "102   -361.417313\n",
       "103    151.340906\n",
       "104    282.024207\n",
       "          ...    \n",
       "195   -166.988296\n",
       "196    356.356701\n",
       "197    -18.065151\n",
       "198   -347.381434\n",
       "199    197.240935\n",
       "Name: Time_dummy, Length: 100, dtype: float64"
      ]
     },
     "execution_count": 41,
     "metadata": {},
     "output_type": "execute_result"
    }
   ],
   "source": [
    "df_dummy['Time_dummy'][100:]"
   ]
  },
  {
   "cell_type": "code",
   "execution_count": 29,
   "id": "11e442b8-d88b-41ee-b59d-c5f95b33c18f",
   "metadata": {},
   "outputs": [
    {
     "data": {
      "text/plain": [
       "(189, 10, 3)"
      ]
     },
     "execution_count": 29,
     "metadata": {},
     "output_type": "execute_result"
    }
   ],
   "source": [
    "x.shape"
   ]
  },
  {
   "cell_type": "code",
   "execution_count": 30,
   "id": "9f24c44c-8cd4-443a-9c57-3b7d3bcf7b46",
   "metadata": {},
   "outputs": [
    {
     "data": {
      "text/plain": [
       "(189,)"
      ]
     },
     "execution_count": 30,
     "metadata": {},
     "output_type": "execute_result"
    }
   ],
   "source": [
    "y.shape"
   ]
  },
  {
   "cell_type": "code",
   "execution_count": 36,
   "id": "917e481e-49eb-4453-9f96-548f81bce8f5",
   "metadata": {},
   "outputs": [
    {
     "name": "stdout",
     "output_type": "stream",
     "text": [
      "(1890, 3)\n"
     ]
    },
    {
     "data": {
      "image/png": "[encoded data removed]",
      "text/plain": [
       "<Figure size 640x480 with 1 Axes>"
      ]
     },
     "metadata": {},
     "output_type": "display_data"
    }
   ],
   "source": [
    "import matplotlib.pyplot as plt\n",
    "x = x.reshape(-1,x.shape[-1])\n",
    "print(x.shape)\n",
    "\n",
    "data_dummy = scaler_dummy.inverse_transform(x)\n",
    "plt.plot(x[:,2],label='cr_pos vs keff')\n",
    "plt.show()"
   ]
  },
  {
   "cell_type": "code",
   "execution_count": null,
   "id": "08d622de-a6a0-4b66-a6a3-35a8313edb04",
   "metadata": {},
   "outputs": [],
   "source": []
  },
  {
   "cell_type": "code",
   "execution_count": 37,
   "id": "d87fa55b-b386-4160-9883-35e26a2deb77",
   "metadata": {},
   "outputs": [
    {
     "name": "stdout",
     "output_type": "stream",
     "text": [
      "0    25\n",
      "1    30\n",
      "2    22\n",
      "Name: Age, dtype: int64\n"
     ]
    }
   ],
   "source": [
    "import pandas as pd\n",
    "\n",
    "# Create a sample DataFrame\n",
    "data = {'Name': ['Alice', 'Bob', 'Charlie'],\n",
    "        'Age': [25, 30, 22],\n",
    "        'City': ['New York', 'London', 'Paris']}\n",
    "df = pd.DataFrame(data)\n",
    "\n",
    "# Collect the column at index 1 (which is 'Age' in this case)\n",
    "age_column = df.iloc[:, 1]\n",
    "\n",
    "print(age_column)"
   ]
  },
  {
   "cell_type": "code",
   "execution_count": 38,
   "id": "3a98435b-5e79-4c7b-b0a2-412a615d9ab4",
   "metadata": {},
   "outputs": [
    {
     "name": "stdout",
     "output_type": "stream",
     "text": [
      "(80, 2)\n"
     ]
    }
   ],
   "source": [
    "import pandas as pd\n",
    "\n",
    "# Create a sample DataFrame\n",
    "df = pd.DataFrame({'col1': range(100), 'col2': [f'data_{i}' for i in range(100)]})\n",
    "\n",
    "# Get the first N rows for training\n",
    "n_rows_for_train = 80\n",
    "train_df = df.iloc[:n_rows_for_train]\n",
    "\n",
    "print(train_df.shape) # (80, 2)"
   ]
  },
  {
   "cell_type": "code",
   "execution_count": 57,
   "id": "b09426fc-6a70-4c52-a973-40327e980586",
   "metadata": {},
   "outputs": [
    {
     "name": "stdout",
     "output_type": "stream",
     "text": [
      "(1000, 1)\n",
      "972\n"
     ]
    }
   ],
   "source": [
    "import numpy as np\n",
    "import pandas as pd\n",
    "\n",
    "# Generate random data\n",
    "x = np.random.normal(0, 10, 1000)\n",
    "\n",
    "# Put it into a DataFrame\n",
    "df = pd.DataFrame()\n",
    "df[0] = x  # Correct way to assign a column in pandas\n",
    "print(df.shape)\n",
    "# Set time_step\n",
    "time_step = 27\n",
    "data=[]\n",
    "# Loop through to slice the data\n",
    "for i in range(len(df) - time_step - 1):\n",
    "    data_p =  df[i:i + time_step]\n",
    "    data.append(data_p)\n",
    "# Print length of the last sliced `data`\n",
    "print(len(data))\n"
   ]
  },
  {
   "cell_type": "code",
   "execution_count": 78,
   "id": "5738ad2b-365d-4784-9267-57f4ca34253b",
   "metadata": {},
   "outputs": [],
   "source": [
    "df_read = pd.read_csv(\"sim_keff_data.csv\")\n",
    "df_test = pd.DataFrame()\n",
    "df_test['Time'] = df_read['time'].iloc[0:1000]\n",
    "df_test['keff'] = df_read['keff'].iloc[0:1000]\n",
    "df_test['cr_pos'] = df_read['rod_position'].iloc[0:1000]"
   ]
  },
  {
   "cell_type": "code",
   "execution_count": 80,
   "id": "bc4ce483-6ca4-4fd4-8832-349dcef01fee",
   "metadata": {},
   "outputs": [],
   "source": [
    "noise = np.random.normal(0,1,1000)"
   ]
  },
  {
   "cell_type": "code",
   "execution_count": 81,
   "id": "8d28709a-e239-453b-878e-444f93351e2f",
   "metadata": {},
   "outputs": [],
   "source": [
    "df_test['Time'] = df_read['time'].iloc[0:1000]+noise\n",
    "df_test['keff'] = df_read['keff'].iloc[0:1000] +noise\n",
    "df_test['cr_pos'] = df_read['rod_position'].iloc[0:1000]+noise"
   ]
  },
  {
   "cell_type": "code",
   "execution_count": null,
   "id": "b1a2f5fc-4c85-47db-b6af-1ea7a0b55902",
   "metadata": {},
   "outputs": [],
   "source": []
  }
 ],
 "metadata": {
  "kernelspec": {
   "display_name": "project",
   "language": "python",
   "name": "project"
  },
  "language_info": {
   "codemirror_mode": {
    "name": "ipython",
    "version": 3
   },
   "file_extension": ".py",
   "mimetype": "text/x-python",
   "name": "python",
   "nbconvert_exporter": "python",
   "pygments_lexer": "ipython3",
   "version": "3.9.23"
  }
 },
 "nbformat": 4,
 "nbformat_minor": 5
}
